{
 "cells": [
  {
   "cell_type": "markdown",
   "metadata": {},
   "source": [
    "# OpenStreetMap 数据集研究"
   ]
  },
  {
   "cell_type": "markdown",
   "metadata": {},
   "source": [
    "## 地图区域"
   ]
  },
  {
   "cell_type": "markdown",
   "metadata": {},
   "source": [
    "中国 / 湖北 / 武汉（https://mapzen.com/data/metro-extracts/metro/wuhan_china/）"
   ]
  },
  {
   "cell_type": "markdown",
   "metadata": {},
   "source": [
    "## 所遇问题"
   ]
  },
  {
   "cell_type": "markdown",
   "metadata": {},
   "source": [
    "因为样本量过大， 故先选择了一个小样本sample.osm进行预分析。可发现以下几个问题：\n",
    "* 街道名称的缩写，例如：Sanjiaohu Rd\n",
    "* 街道名称中包含中文和拼音，例如：车站村 chezhancun"
   ]
  },
  {
   "cell_type": "markdown",
   "metadata": {},
   "source": [
    "###  纠正街道名"
   ]
  },
  {
   "cell_type": "markdown",
   "metadata": {},
   "source": [
    "为了使街道名称后缀显示一致性，通过以下函数可以进行修正："
   ]
  },
  {
   "cell_type": "code",
   "execution_count": null,
   "metadata": {
    "collapsed": true
   },
   "outputs": [],
   "source": [
    "def update_street_name(name, mapping):\n",
    "    for ma in mapping.keys():\n",
    "        if name.endswith(ma):\n",
    "            name=name.replace(ma,mapping[ma])\n",
    "    return name"
   ]
  },
  {
   "cell_type": "markdown",
   "metadata": {},
   "source": [
    "更新后的街道名会更加整齐，例如Sanjiaohu Rd会更新为Sanjiaohu Road"
   ]
  },
  {
   "cell_type": "markdown",
   "metadata": {},
   "source": [
    "### postcode"
   ]
  },
  {
   "cell_type": "code",
   "execution_count": 1,
   "metadata": {
    "collapsed": false
   },
   "outputs": [
    {
     "data": {
      "text/plain": [
       "[(u'430079', 49),\n",
       " (u'430074', 9),\n",
       " (u'430070', 8),\n",
       " (u'430056', 5),\n",
       " (u'430062', 5),\n",
       " (u'430000', 3),\n",
       " (u'430064', 3),\n",
       " (u'430100', 3),\n",
       " (u'430072', 2),\n",
       " (u'430101', 2),\n",
       " (u'', 1),\n",
       " (u'430022', 1),\n",
       " (u'430065', 1),\n",
       " (u'430071', 1),\n",
       " (u'430073', 1),\n",
       " (u'430080', 1)]"
      ]
     },
     "execution_count": 1,
     "metadata": {},
     "output_type": "execute_result"
    }
   ],
   "source": [
    "import sqlite3\n",
    "con = sqlite3.connect('map.db')\n",
    "cur = con.cursor()\n",
    "cur.execute(\"select tags.value, count(*) as num \\\n",
    "from (select * from nodes_tags union all select * from ways_tags) as tags \\\n",
    "where tags.key = 'postcode' \\\n",
    "group by tags.value \\\n",
    "order by num desc\")\n",
    "cur.fetchall()"
   ]
  },
  {
   "cell_type": "markdown",
   "metadata": {
    "collapsed": true
   },
   "source": [
    "从列举出的邮编可以看出邮编的格式基本没有问题，但是并不全面，虽然是武汉市的地图描述，但是很多地方的邮编并没有，由此可以发现地图只是武汉市的部分地区。"
   ]
  },
  {
   "cell_type": "markdown",
   "metadata": {},
   "source": [
    "# 数据概述"
   ]
  },
  {
   "cell_type": "markdown",
   "metadata": {},
   "source": [
    "## 文件大小"
   ]
  },
  {
   "cell_type": "markdown",
   "metadata": {
    "collapsed": true
   },
   "source": [
    "* wuhan_china.osm ......... 62.3 MB \n",
    "* map.db .................. 33.6 MB\n",
    "* nodes.csv ............... 24.8 MB\n",
    "* nodes_tags.csv .......... 0.48 MB\n",
    "* ways.csv ................ 1.96 MB\n",
    "* ways_tags.csv ........... 2.4 MB\n",
    "* ways_nodes.cv ........... 9 MB "
   ]
  },
  {
   "cell_type": "markdown",
   "metadata": {},
   "source": [
    "## 节点数量"
   ]
  },
  {
   "cell_type": "code",
   "execution_count": 3,
   "metadata": {
    "collapsed": false
   },
   "outputs": [
    {
     "data": {
      "text/plain": [
       "[(314952,)]"
      ]
     },
     "execution_count": 3,
     "metadata": {},
     "output_type": "execute_result"
    }
   ],
   "source": [
    "cur.execute('select count(*) from nodes')\n",
    "cur.fetchall()"
   ]
  },
  {
   "cell_type": "markdown",
   "metadata": {},
   "source": [
    "## 途径数量"
   ]
  },
  {
   "cell_type": "code",
   "execution_count": 5,
   "metadata": {
    "collapsed": false
   },
   "outputs": [
    {
     "data": {
      "text/plain": [
       "[(34267,)]"
      ]
     },
     "execution_count": 5,
     "metadata": {},
     "output_type": "execute_result"
    }
   ],
   "source": [
    "cur.execute('select count(*) from ways')\n",
    "cur.fetchall()"
   ]
  },
  {
   "cell_type": "markdown",
   "metadata": {},
   "source": [
    "## 用户数量"
   ]
  },
  {
   "cell_type": "code",
   "execution_count": 13,
   "metadata": {
    "collapsed": false
   },
   "outputs": [
    {
     "data": {
      "text/plain": [
       "[(515,)]"
      ]
     },
     "execution_count": 13,
     "metadata": {},
     "output_type": "execute_result"
    }
   ],
   "source": [
    "cur.execute('select count(distinct(e.uid)) from (select uid from ways union all select uid from nodes) as e')\n",
    "cur.fetchall()"
   ]
  },
  {
   "cell_type": "markdown",
   "metadata": {},
   "source": [
    "## 前十大贡献用户"
   ]
  },
  {
   "cell_type": "code",
   "execution_count": 4,
   "metadata": {
    "collapsed": false
   },
   "outputs": [
    {
     "data": {
      "text/plain": [
       "[(u'GeoSUN', 112201),\n",
       " (u'Soub', 48069),\n",
       " (u'jamesks', 24414),\n",
       " (u'Gao xioix', 17901),\n",
       " (u'katpatuka', 17298),\n",
       " (u'dword1511', 13558),\n",
       " (u'samsung galaxy s6', 10603),\n",
       " (u'flierfy', 5715),\n",
       " (u'hanchao', 5289),\n",
       " (u'keepcalmandmapon', 5122)]"
      ]
     },
     "execution_count": 4,
     "metadata": {},
     "output_type": "execute_result"
    }
   ],
   "source": [
    "cur.execute('select e.user, count(*) as num \\\n",
    "from (select user from ways union all select user from nodes) as e \\\n",
    "group by e.user \\\n",
    "order by num desc \\\n",
    "limit 10')\n",
    "cur.fetchall()"
   ]
  },
  {
   "cell_type": "markdown",
   "metadata": {},
   "source": [
    "## 出现一次的用户数量"
   ]
  },
  {
   "cell_type": "code",
   "execution_count": 4,
   "metadata": {
    "collapsed": false
   },
   "outputs": [
    {
     "data": {
      "text/plain": [
       "[(92,)]"
      ]
     },
     "execution_count": 4,
     "metadata": {},
     "output_type": "execute_result"
    }
   ],
   "source": [
    "cur.execute('select count(*) \\\n",
    "from (select e.user, count(*) as num \\\n",
    "from (select user from nodes union all select user from ways) as e \\\n",
    "group by e.user \\\n",
    "having num = 1) as u')\n",
    "cur.fetchall()"
   ]
  },
  {
   "cell_type": "markdown",
   "metadata": {},
   "source": [
    "# 其他想法"
   ]
  },
  {
   "cell_type": "code",
   "execution_count": 6,
   "metadata": {
    "collapsed": false
   },
   "outputs": [
    {
     "data": {
      "text/plain": [
       "[(349219,)]"
      ]
     },
     "execution_count": 6,
     "metadata": {},
     "output_type": "execute_result"
    }
   ],
   "source": [
    "cur.execute('select count(*) as num \\\n",
    "from (select user from nodes union all select user from ways) as e')\n",
    "cur.fetchall()"
   ]
  },
  {
   "cell_type": "markdown",
   "metadata": {
    "collapsed": true
   },
   "source": [
    "计算可以发现: \n",
    "* 用户贡献率最高(GeoSUN)达到32.13%\n",
    "* 前两名用户贡献率(GeoSUN和Soub)为45.89%\n",
    "* 前十大用户贡献率为74.5%"
   ]
  },
  {
   "cell_type": "markdown",
   "metadata": {},
   "source": [
    "# 附加数据探索"
   ]
  },
  {
   "cell_type": "markdown",
   "metadata": {},
   "source": [
    "## 店铺类型及数量"
   ]
  },
  {
   "cell_type": "code",
   "execution_count": 5,
   "metadata": {
    "collapsed": false
   },
   "outputs": [
    {
     "data": {
      "text/plain": [
       "[(u'supermarket', 83),\n",
       " (u'convenience', 26),\n",
       " (u'mall', 18),\n",
       " (u'books', 17),\n",
       " (u'bakery', 10),\n",
       " (u'garden_centre', 9),\n",
       " (u'yes', 9),\n",
       " (u'car', 7),\n",
       " (u'bicycle', 6),\n",
       " (u'clothes', 6),\n",
       " (u'department_store', 5),\n",
       " (u'copyshop', 4),\n",
       " (u'wine', 4),\n",
       " (u'computer', 3),\n",
       " (u'florist', 3),\n",
       " (u'optician', 3),\n",
       " (u'greengrocer', 2),\n",
       " (u'hairdresser', 2),\n",
       " (u'laundry', 2),\n",
       " (u'mobile_phone', 2),\n",
       " (u'seafood', 2),\n",
       " (u'beverages', 1),\n",
       " (u'bookmaker', 1),\n",
       " (u'butcher', 1),\n",
       " (u'furniture', 1),\n",
       " (u'gift', 1),\n",
       " (u'hardware', 1),\n",
       " (u'jewelry', 1),\n",
       " (u'photo', 1),\n",
       " (u'photo_studio', 1),\n",
       " (u'sports', 1),\n",
       " (u'travel_agency', 1)]"
      ]
     },
     "execution_count": 5,
     "metadata": {},
     "output_type": "execute_result"
    }
   ],
   "source": [
    "cur.execute(\"select e.value, count(*) as num \\\n",
    "from (select * from nodes_tags union all select * from ways_tags) as e \\\n",
    "where e.key = 'shop' \\\n",
    "group by e.value \\\n",
    "order by num desc\")\n",
    "cur.fetchall()"
   ]
  },
  {
   "cell_type": "markdown",
   "metadata": {
    "collapsed": true
   },
   "source": [
    "## 休闲类型及数量"
   ]
  },
  {
   "cell_type": "code",
   "execution_count": 11,
   "metadata": {
    "collapsed": false
   },
   "outputs": [
    {
     "data": {
      "text/plain": [
       "[(u'pitch', 281),\n",
       " (u'park', 232),\n",
       " (u'track', 77),\n",
       " (u'common', 26),\n",
       " (u'sports_centre', 24),\n",
       " (u'playground', 19),\n",
       " (u'stadium', 15),\n",
       " (u'recreation_ground', 12),\n",
       " (u'swimming_pool', 7),\n",
       " (u'garden', 4),\n",
       " (u'golf_course', 4),\n",
       " (u'sauna', 1),\n",
       " (u'water_park', 1),\n",
       " (u'yes', 1)]"
      ]
     },
     "execution_count": 11,
     "metadata": {},
     "output_type": "execute_result"
    }
   ],
   "source": [
    "cur.execute(\"select e.value, count(*) as num \\\n",
    "from (select * from nodes_tags union all select * from ways_tags) as e \\\n",
    "where e.key = 'leisure' \\\n",
    "group by e.value \\\n",
    "order by num desc\")\n",
    "cur.fetchall()"
   ]
  },
  {
   "cell_type": "markdown",
   "metadata": {},
   "source": [
    "## 最受欢迎的菜系"
   ]
  },
  {
   "cell_type": "code",
   "execution_count": 7,
   "metadata": {
    "collapsed": false
   },
   "outputs": [
    {
     "data": {
      "text/plain": [
       "[(u'chinese', 14),\n",
       " (u'asian', 2),\n",
       " (u'barbecue;chinese', 1),\n",
       " (u'burger', 1),\n",
       " (u'chinese;american', 1),\n",
       " (u'chinese;oriental', 1)]"
      ]
     },
     "execution_count": 7,
     "metadata": {},
     "output_type": "execute_result"
    }
   ],
   "source": [
    "cur.execute(\"SELECT nodes_tags.value, COUNT(*) as num \\\n",
    "FROM nodes_tags \\\n",
    "JOIN (SELECT DISTINCT(id) FROM nodes_tags WHERE value='restaurant') i \\\n",
    "ON nodes_tags.id=i.id \\\n",
    "WHERE nodes_tags.key='cuisine' \\\n",
    "GROUP BY nodes_tags.value \\\n",
    "ORDER BY num DESC\")\n",
    "cur.fetchall()"
   ]
  },
  {
   "cell_type": "markdown",
   "metadata": {},
   "source": [
    "# 结论"
   ]
  },
  {
   "cell_type": "markdown",
   "metadata": {
    "collapsed": true
   },
   "source": [
    "    经过对数据的审查可以发现，数据不是完全干净，所以通过编程的方式清理街道。虽然武汉市的地图数据不够完整，但是从分析到的菜系，娱乐方式及店铺类型足可以发现其大致符合武汉的生活方式及特色。\n",
    "    由于分析的是中国地区的城市，城市地区名及相关街道信息都显示的是拼音或者是中文和拼音一起的格式，但是这样可能会造成同发音不同地址的情况，所以为避免出现错误，应该结合对当地的认识来清理街道数据，将对应的拼音翻译为中文名称。这样虽然要求分析者要对当地有一定的认识并且可能或者仍旧会出现极少的翻译错误，但是这种改进能使我们更好的了解数据。"
   ]
  },
  {
   "cell_type": "code",
   "execution_count": null,
   "metadata": {
    "collapsed": true
   },
   "outputs": [],
   "source": []
  }
 ],
 "metadata": {
  "kernelspec": {
   "display_name": "Python 2",
   "language": "python",
   "name": "python2"
  },
  "language_info": {
   "codemirror_mode": {
    "name": "ipython",
    "version": 2
   },
   "file_extension": ".py",
   "mimetype": "text/x-python",
   "name": "python",
   "nbconvert_exporter": "python",
   "pygments_lexer": "ipython2",
   "version": "2.7.13"
  }
 },
 "nbformat": 4,
 "nbformat_minor": 2
}
